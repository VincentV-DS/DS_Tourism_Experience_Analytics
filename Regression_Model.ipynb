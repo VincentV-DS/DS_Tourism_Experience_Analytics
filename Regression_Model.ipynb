{
 "cells": [
  {
   "cell_type": "code",
   "execution_count": 1,
   "metadata": {},
   "outputs": [],
   "source": [
    "#Regression\n",
    "import pandas as pd\n",
    "import numpy as np\n",
    "from sklearn.ensemble import RandomForestRegressor\n",
    "from sklearn.model_selection import train_test_split\n",
    "from sklearn.metrics import mean_absolute_error,mean_squared_error,r2_score\n",
    "#Classifier\n",
    "from sklearn.ensemble import RandomForestClassifier\n",
    "from sklearn.metrics import accuracy_score,confusion_matrix,classification_report,roc_auc_score,log_loss\n"
   ]
  },
  {
   "cell_type": "code",
   "execution_count": 2,
   "metadata": {},
   "outputs": [
    {
     "data": {
      "text/plain": [
       "TransactionId                  52922\n",
       "UserId                         33526\n",
       "VisitYear                         10\n",
       "VisitMonth                        12\n",
       "VisitMode_x                        5\n",
       "AttractionId                      30\n",
       "Rating                             5\n",
       "ContinentId_x                      5\n",
       "RegionId_x                        22\n",
       "CountryId_x                      153\n",
       "CityId                          5545\n",
       "CityName                        5545\n",
       "CountryId_y                      151\n",
       "Country                          151\n",
       "RegionId_y                        22\n",
       "Region                            22\n",
       "ContinentId_y                      6\n",
       "Continent                          6\n",
       "VisitModeId                        5\n",
       "VisitMode_y                        5\n",
       "AttractionCityId                   3\n",
       "AttractionTypeId                  17\n",
       "Attraction                        30\n",
       "AttractionAddress                 25\n",
       "AttractionType                    17\n",
       "CityName_Frequency               140\n",
       "CityId_Frequency                 140\n",
       "Country_Frequency                 82\n",
       "Region_Frequency                  22\n",
       "Attraction_Frequency              29\n",
       "AttractionAddress_Frequency       25\n",
       "AttractionType_Frequency          17\n",
       "Continent_LB_EC                    6\n",
       "VisitMode_y_LB_EC                  5\n",
       "dtype: int64"
      ]
     },
     "execution_count": 2,
     "metadata": {},
     "output_type": "execute_result"
    }
   ],
   "source": [
    "R=pd.read_csv('Tourism.csv')\n",
    "R.nunique()"
   ]
  },
  {
   "cell_type": "markdown",
   "metadata": {},
   "source": [
    "# regression"
   ]
  },
  {
   "cell_type": "code",
   "execution_count": 3,
   "metadata": {},
   "outputs": [],
   "source": [
    "from sklearn.preprocessing import LabelEncoder\n",
    "R=pd.read_csv('Tourism.csv')"
   ]
  },
  {
   "cell_type": "code",
   "execution_count": 4,
   "metadata": {},
   "outputs": [
    {
     "name": "stdout",
     "output_type": "stream",
     "text": [
      "The Mean Absolute Error: 0.7293080050674965\n",
      "The Mean Square Error : 0.867365895948494\n",
      "The Root Mean Square Error: 0.8539953191133406\n",
      "The R2 Score : 0.0871\n"
     ]
    }
   ],
   "source": [
    "R=pd.read_csv('Tourism.csv')\n",
    "\n",
    "Features=R[['Attraction_Frequency','AttractionAddress_Frequency','Country_Frequency']]\n",
    "# Features=R[['Region_Frequency','Country_Frequency','CityId_Frequency','CityId','RegionId_y','CountryId_y','VisitYear','VisitMonth','VisitMode_y_LB_EC','Attraction_Frequency','AttractionTypeId','AttractionAddress_Frequency']]\n",
    "Target=R['Rating']\n",
    "\n",
    "Features_train,Features_test,Target_train,Target_test=train_test_split(Features,Target,test_size=0.2,random_state=42)\n",
    "\n",
    "RF_Model=RandomForestRegressor(n_estimators=100,random_state=42)\n",
    "RF_Model.fit(Features_train,Target_train)\n",
    "\n",
    "Target_predict=RF_Model.predict(Features_test)\n",
    "\n",
    "print(f\"The Mean Absolute Error: {mean_absolute_error(Target_test,Target_predict)}\")\n",
    "print(f\"The Mean Square Error : {mean_squared_error(Target_test,Target_predict)}\")\n",
    "print(f\"The Root Mean Square Error: {np.sqrt(mean_absolute_error(Target_test,Target_predict))}\")\n",
    "print(f\"The R2 Score : {r2_score(Target_test,Target_predict):.4f}\")"
   ]
  },
  {
   "cell_type": "code",
   "execution_count": 5,
   "metadata": {},
   "outputs": [
    {
     "name": "stdout",
     "output_type": "stream",
     "text": [
      "\n",
      " The Accuracy Of Test : \n",
      "1.00\n"
     ]
    }
   ],
   "source": [
    "C=pd.read_csv('Tourism.csv')\n",
    "Features=C[['AttractionId','TransactionId','VisitModeId','AttractionCityId']]\n",
    "Target=C['VisitMode_y_LB_EC']\n",
    "\n",
    "Features_train,Features_test,Target_train,Target_test=train_test_split(Features,Target,test_size=0.2,random_state=42)\n",
    "\n",
    "rf = RandomForestClassifier(n_estimators=50, random_state=42)\n",
    "rf.fit(Features_train,Target_train)\n",
    "\n",
    "Target_predict=rf.predict(Features_test)\n",
    "\n",
    "accuracy_scores=accuracy_score(Target_test,Target_predict)\n",
    "print(f\"\\n The Accuracy Of Test : \\n{accuracy_scores:.2f}\")\n"
   ]
  },
  {
   "cell_type": "code",
   "execution_count": 6,
   "metadata": {},
   "outputs": [
    {
     "name": "stdout",
     "output_type": "stream",
     "text": [
      "\n",
      "Log Loss:\n",
      " 0.00\n",
      "\n",
      "ROC AUC Score: \n",
      "1.00\n",
      "\n",
      " Classification Report: \n",
      "              precision    recall  f1-score   support\n",
      "\n",
      "           0       1.00      1.00      1.00       135\n",
      "           1       1.00      1.00      1.00      4337\n",
      "           2       1.00      1.00      1.00      2995\n",
      "           3       1.00      1.00      1.00      2190\n",
      "           4       1.00      1.00      1.00       928\n",
      "\n",
      "    accuracy                           1.00     10585\n",
      "   macro avg       1.00      1.00      1.00     10585\n",
      "weighted avg       1.00      1.00      1.00     10585\n",
      "\n",
      "\n",
      " Confusion Matrix: \n",
      "[[ 135    0    0    0    0]\n",
      " [   0 4337    0    0    0]\n",
      " [   0    0 2995    0    0]\n",
      " [   0    0    0 2190    0]\n",
      " [   0    0    0    0  928]]\n",
      "\n",
      " The Accuracy Of Test : \n",
      "1.00\n"
     ]
    }
   ],
   "source": [
    "cm = confusion_matrix(Target_test, Target_predict)\n",
    "report = classification_report(Target_test, Target_predict)\n",
    "probs = rf.predict_proba(Features_test)\n",
    "roc_auc = roc_auc_score(Target_test, probs, multi_class='ovr', average='weighted')\n",
    "logloss = log_loss(Target_test, probs)\n",
    " \n",
    "print(f\"\\nLog Loss:\\n {logloss:.2f}\")\n",
    "print(f\"\\nROC AUC Score: \\n{roc_auc:.2f}\")\n",
    "print(f\"\\n Classification Report: \\n{report}\")\n",
    "print(f\"\\n Confusion Matrix: \\n{cm}\")\n",
    "print(f\"\\n The Accuracy Of Test : \\n{accuracy_scores:.2f}\")\n"
   ]
  }
 ],
 "metadata": {
  "kernelspec": {
   "display_name": "Python 3",
   "language": "python",
   "name": "python3"
  },
  "language_info": {
   "codemirror_mode": {
    "name": "ipython",
    "version": 3
   },
   "file_extension": ".py",
   "mimetype": "text/x-python",
   "name": "python",
   "nbconvert_exporter": "python",
   "pygments_lexer": "ipython3",
   "version": "3.10.11"
  }
 },
 "nbformat": 4,
 "nbformat_minor": 2
}
